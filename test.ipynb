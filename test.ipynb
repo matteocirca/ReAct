{
 "cells": [
  {
   "cell_type": "code",
   "execution_count": 2,
   "metadata": {},
   "outputs": [
    {
     "name": "stdout",
     "output_type": "stream",
     "text": [
      "Thought 2: The paragraph does not mention the specific movie Irene Jacob completed before the American action crime thriller film directed by Stuart Bird. I need to search for the American action crime thriller film directed by Stuart Bird and find its title.\n",
      "Action 2: Search[American action crime thriller film directed by Stuart Bird]\n"
     ]
    }
   ],
   "source": [
    "thought_action = 'Thought 2: The paragraph does not mention the specific movie Irene Jacob completed before the American action crime thriller film directed by Stuart Bird. I need to search for the American action crime thriller film directed by Stuart Bird and find its title.\\nAction 2: Search[American action crime thriller film directed by Stuart Bird]'\n",
    "thought, action = thought_action.strip().split(f\"\\nAction 2: \")\n",
    "thought = thought.split(f\"Thought 2: \")[1]\n",
    "\n",
    "print(f\"Thought 2: {thought}\")\n",
    "print(f\"Action 2: {action}\")"
   ]
  },
  {
   "cell_type": "code",
   "execution_count": 2,
   "metadata": {},
   "outputs": [
    {
     "name": "stdout",
     "output_type": "stream",
     "text": [
      "2\n"
     ]
    }
   ],
   "source": [
    "import time\n",
    "\n",
    "time.sleep(3) ##\n",
    "print(2)"
   ]
  }
 ],
 "metadata": {
  "kernelspec": {
   "display_name": "react",
   "language": "python",
   "name": "python3"
  },
  "language_info": {
   "codemirror_mode": {
    "name": "ipython",
    "version": 3
   },
   "file_extension": ".py",
   "mimetype": "text/x-python",
   "name": "python",
   "nbconvert_exporter": "python",
   "pygments_lexer": "ipython3",
   "version": "3.11.6"
  }
 },
 "nbformat": 4,
 "nbformat_minor": 2
}
